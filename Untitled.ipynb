{
 "cells": [
  {
   "cell_type": "code",
   "execution_count": 4,
   "id": "d7e01d89-8c7f-4a84-92eb-f580bc42e376",
   "metadata": {
    "tags": []
   },
   "outputs": [
    {
     "name": "stderr",
     "output_type": "stream",
     "text": [
      "/tmp/tmpm7t_abtp.cpp: In function ‘int main()’:\n",
      "/tmp/tmpm7t_abtp.cpp:6:34: error: expected ‘;’ before ‘return’\n",
      "    6 | std::cout << \"Hello\" << std::endl\n",
      "      |                                  ^\n",
      "      |                                  ;\n",
      "......\n",
      "    9 | return 0;\n",
      "      | ~~~~~~                            \n",
      "\n",
      "[C++ 14 kernel] Interpreter exited with code 1. The executable cannot be executed"
     ]
    }
   ],
   "source": [
    "std::cout << \"Hello\" << std::endl"
   ]
  },
  {
   "cell_type": "code",
   "execution_count": 6,
   "id": "df9a2365-10e9-45c0-8c99-38af0bd12d22",
   "metadata": {
    "tags": []
   },
   "outputs": [],
   "source": [
    "int a =5;"
   ]
  },
  {
   "cell_type": "code",
   "execution_count": 10,
   "id": "3a524816-65d9-435d-b6f8-556344cc0590",
   "metadata": {
    "tags": []
   },
   "outputs": [
    {
     "data": {
      "text/markdown": [
       "15"
      ]
     },
     "metadata": {},
     "output_type": "display_data"
    }
   ],
   "source": [
    "#include<iostream>\n",
    "using namespace std;\n",
    "int main()\n",
    "{\n",
    "    int a= 5;\n",
    "    a = a+10;\n",
    "    std::cout << a;\n",
    "    return(0);\n",
    "}"
   ]
  },
  {
   "cell_type": "code",
   "execution_count": null,
   "id": "82820733-7714-4799-9c05-7402b4fbeba5",
   "metadata": {},
   "outputs": [],
   "source": []
  }
 ],
 "metadata": {
  "kernelspec": {
   "display_name": "C++ 14",
   "language": "cpp",
   "name": "cpp14"
  },
  "language_info": {
   "file_extension": ".cpp",
   "mimetype": "text/markdown",
   "name": "text/markdown"
  }
 },
 "nbformat": 4,
 "nbformat_minor": 5
}
